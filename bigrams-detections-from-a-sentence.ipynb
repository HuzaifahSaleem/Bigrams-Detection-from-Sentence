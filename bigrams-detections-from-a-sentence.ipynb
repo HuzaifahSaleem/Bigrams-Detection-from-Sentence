{
 "cells": [
  {
   "cell_type": "code",
   "execution_count": 1,
   "metadata": {
    "execution": {
     "iopub.execute_input": "2020-09-22T08:29:42.606597Z",
     "iopub.status.busy": "2020-09-22T08:29:42.605714Z",
     "iopub.status.idle": "2020-09-22T08:29:42.609515Z",
     "shell.execute_reply": "2020-09-22T08:29:42.608834Z"
    },
    "papermill": {
     "duration": 0.041645,
     "end_time": "2020-09-22T08:29:42.609662",
     "exception": false,
     "start_time": "2020-09-22T08:29:42.568017",
     "status": "completed"
    },
    "tags": []
   },
   "outputs": [],
   "source": [
    "def bigramEstimation(file):\n",
    "    '''A very basic solution for the sake of illustration.\n",
    "       It can be calculated in a more sophesticated way.\n",
    "       '''\n",
    "\n",
    "    lst = [] # This will contain the tokens\n",
    "    unigrams = {} # for unigrams and their counts\n",
    "    bigrams = {} # for bigrams and their counts\n",
    "\n",
    "    # 1. Read the textfile, split it into a list\n",
    "    #text = open(file, 'r').read()\n",
    "    #text= open(file, encoding ='utf-8')\n",
    "    #lst = text.strip().split()\n",
    "    \n",
    "    \n",
    "    with open(file) as f:\n",
    "        lst = list(f)\n",
    "    \n",
    "    \n",
    "    \n",
    "    print('Read ', len(lst), ' tokens...')\n",
    "\n",
    "    #del text # No further need for text var\n",
    "\n",
    "\n",
    "\n",
    "    # 2. Generate unigrams frequencies\n",
    "    for l in lst:\n",
    "        if not l in unigrams:\n",
    "            unigrams[l] = 1\n",
    "        else:\n",
    "            unigrams[l] += 1\n",
    "\n",
    "    print('Generated ', len(unigrams), ' unigrams...') \n",
    "\n",
    "    # 3. Generate bigrams with frequencies\n",
    "    for i in range(len(lst) - 1):\n",
    "        temp = (lst[i], lst[i+1]) # Tuples are easier to reuse than nested lists\n",
    "        if not temp in bigrams:\n",
    "            bigrams[temp] = 1\n",
    "        else:\n",
    "            bigrams[temp] += 1\n",
    "\n",
    "    print('Generated ', len(bigrams), ' bigrams...')\n",
    "\n",
    "    # Now Hidden Markov Model\n",
    "    # bigramProb = (Count(bigram) / Count(first_word)) + (Count(first_word)/ total_words_in_corpus)\n",
    "    # A few things we need to keep in mind\n",
    "    total_corpus = sum(unigrams.values())\n",
    "    # You can add smoothed estimation if you want\n",
    "\n",
    "\n",
    "    print('Calculating bigram probabilities and saving to file...')\n",
    "\n",
    "    # Comment the following 4 lines if you do not want the header in the file. \n",
    "    with open(\"bigrams.txt\", 'a') as out:\n",
    "        out.write('Bigram' + '\\t' + 'Bigram Count' + '\\t' + 'Uni Count' + '\\t' + 'Bigram Prob')\n",
    "        out.write('\\n')\n",
    "        out.close()\n",
    "\n",
    "\n",
    "    for k,v in bigrams.items():\n",
    "        # first_word = helle in ('hello', 'world')\n",
    "        first_word = k[0]\n",
    "        first_word_count = unigrams[first_word]\n",
    "        bi_prob = bigrams[k] / unigrams[first_word]\n",
    "        uni_prob = unigrams[first_word] / total_corpus\n",
    "\n",
    "        final_prob = bi_prob + uni_prob\n",
    "        with open(\"bigrams.txt\", 'a') as out:\n",
    "            out.write(k[0] + ' ' + k[1] + '\\t' + str(v) + '\\t' + str(first_word_count) + '\\t' + str(final_prob)) # Delete whatever you don't want to print into a file\n",
    "            out.write('\\n')\n",
    "            out.close()"
   ]
  },
  {
   "cell_type": "code",
   "execution_count": 2,
   "metadata": {
    "execution": {
     "iopub.execute_input": "2020-09-22T08:29:42.648016Z",
     "iopub.status.busy": "2020-09-22T08:29:42.647146Z",
     "iopub.status.idle": "2020-09-22T08:29:42.686071Z",
     "shell.execute_reply": "2020-09-22T08:29:42.685251Z"
    },
    "papermill": {
     "duration": 0.059892,
     "end_time": "2020-09-22T08:29:42.686235",
     "exception": false,
     "start_time": "2020-09-22T08:29:42.626343",
     "status": "completed"
    },
    "tags": []
   },
   "outputs": [
    {
     "ename": "StdinNotImplementedError",
     "evalue": "raw_input was called, but this frontend does not support input requests.",
     "output_type": "error",
     "traceback": [
      "\u001b[0;31m---------------------------------------------------------------------------\u001b[0m",
      "\u001b[0;31mStdinNotImplementedError\u001b[0m                  Traceback (most recent call last)",
      "\u001b[0;32m<ipython-input-2-e09e1bc22fa4>\u001b[0m in \u001b[0;36m<module>\u001b[0;34m\u001b[0m\n\u001b[0;32m----> 1\u001b[0;31m \u001b[0minputSentence\u001b[0m\u001b[0;34m=\u001b[0m \u001b[0minput\u001b[0m\u001b[0;34m(\u001b[0m\u001b[0;34m\"Please Enter your text:\"\u001b[0m\u001b[0;34m)\u001b[0m\u001b[0;34m\u001b[0m\u001b[0;34m\u001b[0m\u001b[0m\n\u001b[0m",
      "\u001b[0;32m/opt/conda/lib/python3.7/site-packages/ipykernel/kernelbase.py\u001b[0m in \u001b[0;36mraw_input\u001b[0;34m(self, prompt)\u001b[0m\n\u001b[1;32m    853\u001b[0m         \u001b[0;32mif\u001b[0m \u001b[0;32mnot\u001b[0m \u001b[0mself\u001b[0m\u001b[0;34m.\u001b[0m\u001b[0m_allow_stdin\u001b[0m\u001b[0;34m:\u001b[0m\u001b[0;34m\u001b[0m\u001b[0;34m\u001b[0m\u001b[0m\n\u001b[1;32m    854\u001b[0m             raise StdinNotImplementedError(\n\u001b[0;32m--> 855\u001b[0;31m                 \u001b[0;34m\"raw_input was called, but this frontend does not support input requests.\"\u001b[0m\u001b[0;34m\u001b[0m\u001b[0;34m\u001b[0m\u001b[0m\n\u001b[0m\u001b[1;32m    856\u001b[0m             )\n\u001b[1;32m    857\u001b[0m         return self._input_request(str(prompt),\n",
      "\u001b[0;31mStdinNotImplementedError\u001b[0m: raw_input was called, but this frontend does not support input requests."
     ]
    }
   ],
   "source": [
    "inputSentence= input(\"Please Enter your text:\")"
   ]
  },
  {
   "cell_type": "code",
   "execution_count": 3,
   "metadata": {
    "execution": {
     "iopub.execute_input": "2020-09-22T08:29:42.734933Z",
     "iopub.status.busy": "2020-09-22T08:29:42.733886Z",
     "iopub.status.idle": "2020-09-22T08:29:42.739699Z",
     "shell.execute_reply": "2020-09-22T08:29:42.738882Z"
    },
    "papermill": {
     "duration": 0.035232,
     "end_time": "2020-09-22T08:29:42.739827",
     "exception": false,
     "start_time": "2020-09-22T08:29:42.704595",
     "status": "completed"
    },
    "tags": []
   },
   "outputs": [
    {
     "ename": "NameError",
     "evalue": "name 'inputSentence' is not defined",
     "output_type": "error",
     "traceback": [
      "\u001b[0;31m---------------------------------------------------------------------------\u001b[0m",
      "\u001b[0;31mNameError\u001b[0m                                 Traceback (most recent call last)",
      "\u001b[0;32m<ipython-input-3-e98771f2e089>\u001b[0m in \u001b[0;36m<module>\u001b[0;34m\u001b[0m\n\u001b[0;32m----> 1\u001b[0;31m \u001b[0mtxt\u001b[0m\u001b[0;34m=\u001b[0m\u001b[0minputSentence\u001b[0m\u001b[0;34m\u001b[0m\u001b[0;34m\u001b[0m\u001b[0m\n\u001b[0m",
      "\u001b[0;31mNameError\u001b[0m: name 'inputSentence' is not defined"
     ]
    }
   ],
   "source": [
    "txt=inputSentence"
   ]
  },
  {
   "cell_type": "code",
   "execution_count": 4,
   "metadata": {
    "execution": {
     "iopub.execute_input": "2020-09-22T08:29:42.789866Z",
     "iopub.status.busy": "2020-09-22T08:29:42.787208Z",
     "iopub.status.idle": "2020-09-22T08:29:42.795306Z",
     "shell.execute_reply": "2020-09-22T08:29:42.794679Z"
    },
    "papermill": {
     "duration": 0.038035,
     "end_time": "2020-09-22T08:29:42.795437",
     "exception": false,
     "start_time": "2020-09-22T08:29:42.757402",
     "status": "completed"
    },
    "tags": []
   },
   "outputs": [
    {
     "ename": "NameError",
     "evalue": "name 'txt' is not defined",
     "output_type": "error",
     "traceback": [
      "\u001b[0;31m---------------------------------------------------------------------------\u001b[0m",
      "\u001b[0;31mNameError\u001b[0m                                 Traceback (most recent call last)",
      "\u001b[0;32m<ipython-input-4-10c16668c0a4>\u001b[0m in \u001b[0;36m<module>\u001b[0;34m\u001b[0m\n\u001b[1;32m      1\u001b[0m \u001b[0;31m#remove punctuations and standardize text\u001b[0m\u001b[0;34m\u001b[0m\u001b[0;34m\u001b[0m\u001b[0;34m\u001b[0m\u001b[0m\n\u001b[0;32m----> 2\u001b[0;31m \u001b[0mwords\u001b[0m\u001b[0;34m=\u001b[0m\u001b[0mtxt\u001b[0m\u001b[0;34m.\u001b[0m\u001b[0msplit\u001b[0m\u001b[0;34m(\u001b[0m\u001b[0;34m)\u001b[0m\u001b[0;34m\u001b[0m\u001b[0;34m\u001b[0m\u001b[0m\n\u001b[0m\u001b[1;32m      3\u001b[0m \u001b[0mwords\u001b[0m\u001b[0;34m\u001b[0m\u001b[0;34m\u001b[0m\u001b[0m\n",
      "\u001b[0;31mNameError\u001b[0m: name 'txt' is not defined"
     ]
    }
   ],
   "source": [
    "#remove punctuations and standardize text\n",
    "words=txt.split()\n",
    "words"
   ]
  },
  {
   "cell_type": "code",
   "execution_count": 5,
   "metadata": {
    "execution": {
     "iopub.execute_input": "2020-09-22T08:29:42.846456Z",
     "iopub.status.busy": "2020-09-22T08:29:42.845554Z",
     "iopub.status.idle": "2020-09-22T08:29:42.850539Z",
     "shell.execute_reply": "2020-09-22T08:29:42.851163Z"
    },
    "papermill": {
     "duration": 0.03797,
     "end_time": "2020-09-22T08:29:42.851349",
     "exception": false,
     "start_time": "2020-09-22T08:29:42.813379",
     "status": "completed"
    },
    "tags": []
   },
   "outputs": [
    {
     "ename": "NameError",
     "evalue": "name 'words' is not defined",
     "output_type": "error",
     "traceback": [
      "\u001b[0;31m---------------------------------------------------------------------------\u001b[0m",
      "\u001b[0;31mNameError\u001b[0m                                 Traceback (most recent call last)",
      "\u001b[0;32m<ipython-input-5-2f4a72a8ab64>\u001b[0m in \u001b[0;36m<module>\u001b[0;34m\u001b[0m\n\u001b[1;32m      1\u001b[0m \u001b[0;31m#lowercasing all words\u001b[0m\u001b[0;34m\u001b[0m\u001b[0;34m\u001b[0m\u001b[0;34m\u001b[0m\u001b[0m\n\u001b[0;32m----> 2\u001b[0;31m \u001b[0mwords\u001b[0m \u001b[0;34m=\u001b[0m \u001b[0;34m[\u001b[0m\u001b[0mword\u001b[0m\u001b[0;34m.\u001b[0m\u001b[0mlower\u001b[0m\u001b[0;34m(\u001b[0m\u001b[0;34m)\u001b[0m \u001b[0;32mfor\u001b[0m \u001b[0mword\u001b[0m \u001b[0;32min\u001b[0m \u001b[0mwords\u001b[0m\u001b[0;34m]\u001b[0m\u001b[0;34m\u001b[0m\u001b[0;34m\u001b[0m\u001b[0m\n\u001b[0m\u001b[1;32m      3\u001b[0m \u001b[0mwords\u001b[0m\u001b[0;34m\u001b[0m\u001b[0;34m\u001b[0m\u001b[0m\n",
      "\u001b[0;31mNameError\u001b[0m: name 'words' is not defined"
     ]
    }
   ],
   "source": [
    "#lowercasing all words\n",
    "words = [word.lower() for word in words]\n",
    "words"
   ]
  },
  {
   "cell_type": "code",
   "execution_count": 6,
   "metadata": {
    "execution": {
     "iopub.execute_input": "2020-09-22T08:29:42.905707Z",
     "iopub.status.busy": "2020-09-22T08:29:42.904617Z",
     "iopub.status.idle": "2020-09-22T08:29:42.910494Z",
     "shell.execute_reply": "2020-09-22T08:29:42.909552Z"
    },
    "papermill": {
     "duration": 0.039735,
     "end_time": "2020-09-22T08:29:42.910641",
     "exception": false,
     "start_time": "2020-09-22T08:29:42.870906",
     "status": "completed"
    },
    "tags": []
   },
   "outputs": [
    {
     "ename": "NameError",
     "evalue": "name 'words' is not defined",
     "output_type": "error",
     "traceback": [
      "\u001b[0;31m---------------------------------------------------------------------------\u001b[0m",
      "\u001b[0;31mNameError\u001b[0m                                 Traceback (most recent call last)",
      "\u001b[0;32m<ipython-input-6-c67f9a3d6036>\u001b[0m in \u001b[0;36m<module>\u001b[0;34m\u001b[0m\n\u001b[1;32m      1\u001b[0m \u001b[0;32mimport\u001b[0m \u001b[0mstring\u001b[0m\u001b[0;34m\u001b[0m\u001b[0;34m\u001b[0m\u001b[0m\n\u001b[1;32m      2\u001b[0m \u001b[0mtable\u001b[0m \u001b[0;34m=\u001b[0m \u001b[0mstr\u001b[0m\u001b[0;34m.\u001b[0m\u001b[0mmaketrans\u001b[0m\u001b[0;34m(\u001b[0m\u001b[0;34m''\u001b[0m\u001b[0;34m,\u001b[0m \u001b[0;34m''\u001b[0m\u001b[0;34m,\u001b[0m \u001b[0mstring\u001b[0m\u001b[0;34m.\u001b[0m\u001b[0mpunctuation\u001b[0m\u001b[0;34m)\u001b[0m\u001b[0;34m\u001b[0m\u001b[0;34m\u001b[0m\u001b[0m\n\u001b[0;32m----> 3\u001b[0;31m \u001b[0mstripped\u001b[0m \u001b[0;34m=\u001b[0m \u001b[0;34m[\u001b[0m\u001b[0mw\u001b[0m\u001b[0;34m.\u001b[0m\u001b[0mtranslate\u001b[0m\u001b[0;34m(\u001b[0m\u001b[0mtable\u001b[0m\u001b[0;34m)\u001b[0m \u001b[0;32mfor\u001b[0m \u001b[0mw\u001b[0m \u001b[0;32min\u001b[0m \u001b[0mwords\u001b[0m\u001b[0;34m]\u001b[0m\u001b[0;34m\u001b[0m\u001b[0;34m\u001b[0m\u001b[0m\n\u001b[0m\u001b[1;32m      4\u001b[0m \u001b[0mprint\u001b[0m\u001b[0;34m(\u001b[0m\u001b[0mstripped\u001b[0m\u001b[0;34m)\u001b[0m\u001b[0;34m\u001b[0m\u001b[0;34m\u001b[0m\u001b[0m\n",
      "\u001b[0;31mNameError\u001b[0m: name 'words' is not defined"
     ]
    }
   ],
   "source": [
    "import string\n",
    "table = str.maketrans('', '', string.punctuation)\n",
    "stripped = [w.translate(table) for w in words]\n",
    "print(stripped)"
   ]
  },
  {
   "cell_type": "code",
   "execution_count": 7,
   "metadata": {
    "execution": {
     "iopub.execute_input": "2020-09-22T08:29:42.959506Z",
     "iopub.status.busy": "2020-09-22T08:29:42.958676Z",
     "iopub.status.idle": "2020-09-22T08:30:20.439920Z",
     "shell.execute_reply": "2020-09-22T08:30:20.441397Z"
    },
    "papermill": {
     "duration": 37.509247,
     "end_time": "2020-09-22T08:30:20.441598",
     "exception": false,
     "start_time": "2020-09-22T08:29:42.932351",
     "status": "completed"
    },
    "tags": []
   },
   "outputs": [
    {
     "name": "stdout",
     "output_type": "stream",
     "text": [
      "Requirement already satisfied: nltk in /opt/conda/lib/python3.7/site-packages (3.2.4)\r\n",
      "Requirement already satisfied: six in /opt/conda/lib/python3.7/site-packages (from nltk) (1.14.0)\r\n",
      "\u001b[33mWARNING: You are using pip version 20.2.2; however, version 20.2.3 is available.\r\n",
      "You should consider upgrading via the '/opt/conda/bin/python3.7 -m pip install --upgrade pip' command.\u001b[0m\r\n",
      "/opt/conda/lib/python3.7/runpy.py:125: RuntimeWarning: 'nltk.downloader' found in sys.modules after import of package 'nltk', but prior to execution of 'nltk.downloader'; this may result in unpredictable behaviour\r\n",
      "  warn(RuntimeWarning(msg))\r\n",
      "[nltk_data] Downloading collection 'all'\r\n",
      "[nltk_data]    | \r\n",
      "[nltk_data]    | Downloading package abc to /usr/share/nltk_data...\r\n",
      "[nltk_data]    |   Package abc is already up-to-date!\r\n",
      "[nltk_data]    | Downloading package alpino to /usr/share/nltk_data...\r\n",
      "[nltk_data]    |   Package alpino is already up-to-date!\r\n",
      "[nltk_data]    | Downloading package biocreative_ppi to\r\n",
      "[nltk_data]    |     /usr/share/nltk_data...\r\n",
      "[nltk_data]    |   Package biocreative_ppi is already up-to-date!\r\n",
      "[nltk_data]    | Downloading package brown to /usr/share/nltk_data...\r\n",
      "[nltk_data]    |   Package brown is already up-to-date!\r\n",
      "[nltk_data]    | Downloading package brown_tei to\r\n",
      "[nltk_data]    |     /usr/share/nltk_data...\r\n",
      "[nltk_data]    |   Package brown_tei is already up-to-date!\r\n",
      "[nltk_data]    | Downloading package cess_cat to\r\n",
      "[nltk_data]    |     /usr/share/nltk_data...\r\n",
      "[nltk_data]    |   Package cess_cat is already up-to-date!\r\n",
      "[nltk_data]    | Downloading package cess_esp to\r\n",
      "[nltk_data]    |     /usr/share/nltk_data...\r\n",
      "[nltk_data]    |   Package cess_esp is already up-to-date!\r\n",
      "[nltk_data]    | Downloading package chat80 to /usr/share/nltk_data...\r\n",
      "[nltk_data]    |   Package chat80 is already up-to-date!\r\n",
      "[nltk_data]    | Downloading package city_database to\r\n",
      "[nltk_data]    |     /usr/share/nltk_data...\r\n",
      "[nltk_data]    |   Package city_database is already up-to-date!\r\n",
      "[nltk_data]    | Downloading package cmudict to\r\n",
      "[nltk_data]    |     /usr/share/nltk_data...\r\n",
      "[nltk_data]    |   Package cmudict is already up-to-date!\r\n",
      "[nltk_data]    | Downloading package comparative_sentences to\r\n",
      "[nltk_data]    |     /usr/share/nltk_data...\r\n",
      "[nltk_data]    |   Unzipping corpora/comparative_sentences.zip.\r\n",
      "[nltk_data]    | Downloading package comtrans to\r\n",
      "[nltk_data]    |     /usr/share/nltk_data...\r\n",
      "[nltk_data]    |   Package comtrans is already up-to-date!\r\n",
      "[nltk_data]    | Downloading package conll2000 to\r\n",
      "[nltk_data]    |     /usr/share/nltk_data...\r\n",
      "[nltk_data]    |   Package conll2000 is already up-to-date!\r\n",
      "[nltk_data]    | Downloading package conll2002 to\r\n",
      "[nltk_data]    |     /usr/share/nltk_data...\r\n",
      "[nltk_data]    |   Package conll2002 is already up-to-date!\r\n",
      "[nltk_data]    | Downloading package conll2007 to\r\n",
      "[nltk_data]    |     /usr/share/nltk_data...\r\n",
      "[nltk_data]    |   Package conll2007 is already up-to-date!\r\n",
      "[nltk_data]    | Downloading package crubadan to\r\n",
      "[nltk_data]    |     /usr/share/nltk_data...\r\n",
      "[nltk_data]    |   Package crubadan is already up-to-date!\r\n",
      "[nltk_data]    | Downloading package dependency_treebank to\r\n",
      "[nltk_data]    |     /usr/share/nltk_data...\r\n",
      "[nltk_data]    |   Package dependency_treebank is already up-to-date!\r\n",
      "[nltk_data]    | Downloading package dolch to /usr/share/nltk_data...\r\n",
      "[nltk_data]    |   Unzipping corpora/dolch.zip.\r\n",
      "[nltk_data]    | Downloading package europarl_raw to\r\n",
      "[nltk_data]    |     /usr/share/nltk_data...\r\n",
      "[nltk_data]    |   Package europarl_raw is already up-to-date!\r\n",
      "[nltk_data]    | Downloading package floresta to\r\n",
      "[nltk_data]    |     /usr/share/nltk_data...\r\n",
      "[nltk_data]    |   Package floresta is already up-to-date!\r\n",
      "[nltk_data]    | Downloading package framenet_v15 to\r\n",
      "[nltk_data]    |     /usr/share/nltk_data...\r\n",
      "[nltk_data]    |   Unzipping corpora/framenet_v15.zip.\r\n",
      "[nltk_data]    | Downloading package framenet_v17 to\r\n",
      "[nltk_data]    |     /usr/share/nltk_data...\r\n",
      "[nltk_data]    |   Unzipping corpora/framenet_v17.zip.\r\n",
      "[nltk_data]    | Downloading package gazetteers to\r\n",
      "[nltk_data]    |     /usr/share/nltk_data...\r\n",
      "[nltk_data]    |   Package gazetteers is already up-to-date!\r\n",
      "[nltk_data]    | Downloading package genesis to\r\n",
      "[nltk_data]    |     /usr/share/nltk_data...\r\n",
      "[nltk_data]    |   Package genesis is already up-to-date!\r\n",
      "[nltk_data]    | Downloading package gutenberg to\r\n",
      "[nltk_data]    |     /usr/share/nltk_data...\r\n",
      "[nltk_data]    |   Package gutenberg is already up-to-date!\r\n",
      "[nltk_data]    | Downloading package ieer to /usr/share/nltk_data...\r\n",
      "[nltk_data]    |   Package ieer is already up-to-date!\r\n",
      "[nltk_data]    | Downloading package inaugural to\r\n",
      "[nltk_data]    |     /usr/share/nltk_data...\r\n",
      "[nltk_data]    |   Package inaugural is already up-to-date!\r\n",
      "[nltk_data]    | Downloading package indian to /usr/share/nltk_data...\r\n",
      "[nltk_data]    |   Package indian is already up-to-date!\r\n",
      "[nltk_data]    | Downloading package jeita to /usr/share/nltk_data...\r\n",
      "[nltk_data]    |   Package jeita is already up-to-date!\r\n",
      "[nltk_data]    | Downloading package kimmo to /usr/share/nltk_data...\r\n",
      "[nltk_data]    |   Package kimmo is already up-to-date!\r\n",
      "[nltk_data]    | Downloading package knbc to /usr/share/nltk_data...\r\n",
      "[nltk_data]    |   Package knbc is already up-to-date!\r\n",
      "[nltk_data]    | Downloading package lin_thesaurus to\r\n",
      "[nltk_data]    |     /usr/share/nltk_data...\r\n",
      "[nltk_data]    |   Package lin_thesaurus is already up-to-date!\r\n",
      "[nltk_data]    | Downloading package mac_morpho to\r\n",
      "[nltk_data]    |     /usr/share/nltk_data...\r\n",
      "[nltk_data]    |   Package mac_morpho is already up-to-date!\r\n",
      "[nltk_data]    | Downloading package machado to\r\n",
      "[nltk_data]    |     /usr/share/nltk_data...\r\n",
      "[nltk_data]    |   Package machado is already up-to-date!\r\n",
      "[nltk_data]    | Downloading package masc_tagged to\r\n",
      "[nltk_data]    |     /usr/share/nltk_data...\r\n",
      "[nltk_data]    |   Package masc_tagged is already up-to-date!\r\n",
      "[nltk_data]    | Downloading package moses_sample to\r\n",
      "[nltk_data]    |     /usr/share/nltk_data...\r\n",
      "[nltk_data]    |   Package moses_sample is already up-to-date!\r\n",
      "[nltk_data]    | Downloading package movie_reviews to\r\n",
      "[nltk_data]    |     /usr/share/nltk_data...\r\n",
      "[nltk_data]    |   Package movie_reviews is already up-to-date!\r\n",
      "[nltk_data]    | Downloading package names to /usr/share/nltk_data...\r\n",
      "[nltk_data]    |   Package names is already up-to-date!\r\n",
      "[nltk_data]    | Downloading package nombank.1.0 to\r\n",
      "[nltk_data]    |     /usr/share/nltk_data...\r\n",
      "[nltk_data]    | Downloading package nps_chat to\r\n",
      "[nltk_data]    |     /usr/share/nltk_data...\r\n",
      "[nltk_data]    |   Package nps_chat is already up-to-date!\r\n",
      "[nltk_data]    | Downloading package omw to /usr/share/nltk_data...\r\n",
      "[nltk_data]    |   Package omw is already up-to-date!\r\n",
      "[nltk_data]    | Downloading package opinion_lexicon to\r\n",
      "[nltk_data]    |     /usr/share/nltk_data...\r\n",
      "[nltk_data]    |   Package opinion_lexicon is already up-to-date!\r\n",
      "[nltk_data]    | Downloading package paradigms to\r\n",
      "[nltk_data]    |     /usr/share/nltk_data...\r\n",
      "[nltk_data]    |   Package paradigms is already up-to-date!\r\n",
      "[nltk_data]    | Downloading package pil to /usr/share/nltk_data...\r\n",
      "[nltk_data]    |   Package pil is already up-to-date!\r\n",
      "[nltk_data]    | Downloading package pl196x to /usr/share/nltk_data...\r\n",
      "[nltk_data]    |   Package pl196x is already up-to-date!\r\n",
      "[nltk_data]    | Downloading package ppattach to\r\n",
      "[nltk_data]    |     /usr/share/nltk_data...\r\n",
      "[nltk_data]    |   Package ppattach is already up-to-date!\r\n",
      "[nltk_data]    | Downloading package problem_reports to\r\n",
      "[nltk_data]    |     /usr/share/nltk_data...\r\n",
      "[nltk_data]    |   Package problem_reports is already up-to-date!\r\n",
      "[nltk_data]    | Downloading package propbank to\r\n",
      "[nltk_data]    |     /usr/share/nltk_data...\r\n",
      "[nltk_data]    |   Package propbank is already up-to-date!\r\n",
      "[nltk_data]    | Downloading package ptb to /usr/share/nltk_data...\r\n",
      "[nltk_data]    |   Package ptb is already up-to-date!\r\n",
      "[nltk_data]    | Downloading package product_reviews_1 to\r\n",
      "[nltk_data]    |     /usr/share/nltk_data...\r\n",
      "[nltk_data]    |   Package product_reviews_1 is already up-to-date!\r\n",
      "[nltk_data]    | Downloading package product_reviews_2 to\r\n",
      "[nltk_data]    |     /usr/share/nltk_data...\r\n",
      "[nltk_data]    |   Package product_reviews_2 is already up-to-date!\r\n",
      "[nltk_data]    | Downloading package pros_cons to\r\n",
      "[nltk_data]    |     /usr/share/nltk_data...\r\n",
      "[nltk_data]    |   Package pros_cons is already up-to-date!\r\n",
      "[nltk_data]    | Downloading package qc to /usr/share/nltk_data...\r\n",
      "[nltk_data]    |   Package qc is already up-to-date!\r\n",
      "[nltk_data]    | Downloading package reuters to\r\n",
      "[nltk_data]    |     /usr/share/nltk_data...\r\n",
      "[nltk_data]    |   Package reuters is already up-to-date!\r\n",
      "[nltk_data]    | Downloading package rte to /usr/share/nltk_data...\r\n",
      "[nltk_data]    |   Package rte is already up-to-date!\r\n",
      "[nltk_data]    | Downloading package semcor to /usr/share/nltk_data...\r\n",
      "[nltk_data]    |   Package semcor is already up-to-date!\r\n",
      "[nltk_data]    | Downloading package senseval to\r\n",
      "[nltk_data]    |     /usr/share/nltk_data...\r\n",
      "[nltk_data]    |   Package senseval is already up-to-date!\r\n",
      "[nltk_data]    | Downloading package sentiwordnet to\r\n",
      "[nltk_data]    |     /usr/share/nltk_data...\r\n",
      "[nltk_data]    |   Package sentiwordnet is already up-to-date!\r\n",
      "[nltk_data]    | Downloading package sentence_polarity to\r\n",
      "[nltk_data]    |     /usr/share/nltk_data...\r\n",
      "[nltk_data]    |   Package sentence_polarity is already up-to-date!\r\n",
      "[nltk_data]    | Downloading package shakespeare to\r\n",
      "[nltk_data]    |     /usr/share/nltk_data...\r\n",
      "[nltk_data]    |   Package shakespeare is already up-to-date!\r\n",
      "[nltk_data]    | Downloading package sinica_treebank to\r\n",
      "[nltk_data]    |     /usr/share/nltk_data...\r\n",
      "[nltk_data]    |   Package sinica_treebank is already up-to-date!\r\n",
      "[nltk_data]    | Downloading package smultron to\r\n",
      "[nltk_data]    |     /usr/share/nltk_data...\r\n",
      "[nltk_data]    |   Package smultron is already up-to-date!\r\n",
      "[nltk_data]    | Downloading package state_union to\r\n",
      "[nltk_data]    |     /usr/share/nltk_data...\r\n",
      "[nltk_data]    |   Package state_union is already up-to-date!\r\n",
      "[nltk_data]    | Downloading package stopwords to\r\n",
      "[nltk_data]    |     /usr/share/nltk_data...\r\n",
      "[nltk_data]    |   Package stopwords is already up-to-date!\r\n",
      "[nltk_data]    | Downloading package subjectivity to\r\n",
      "[nltk_data]    |     /usr/share/nltk_data...\r\n",
      "[nltk_data]    |   Package subjectivity is already up-to-date!\r\n",
      "[nltk_data]    | Downloading package swadesh to\r\n",
      "[nltk_data]    |     /usr/share/nltk_data...\r\n",
      "[nltk_data]    |   Package swadesh is already up-to-date!\r\n",
      "[nltk_data]    | Downloading package switchboard to\r\n",
      "[nltk_data]    |     /usr/share/nltk_data...\r\n",
      "[nltk_data]    |   Package switchboard is already up-to-date!\r\n",
      "[nltk_data]    | Downloading package timit to /usr/share/nltk_data...\r\n",
      "[nltk_data]    |   Package timit is already up-to-date!\r\n",
      "[nltk_data]    | Downloading package toolbox to\r\n",
      "[nltk_data]    |     /usr/share/nltk_data...\r\n",
      "[nltk_data]    |   Package toolbox is already up-to-date!\r\n",
      "[nltk_data]    | Downloading package treebank to\r\n",
      "[nltk_data]    |     /usr/share/nltk_data...\r\n",
      "[nltk_data]    |   Package treebank is already up-to-date!\r\n",
      "[nltk_data]    | Downloading package twitter_samples to\r\n",
      "[nltk_data]    |     /usr/share/nltk_data...\r\n",
      "[nltk_data]    |   Package twitter_samples is already up-to-date!\r\n",
      "[nltk_data]    | Downloading package udhr to /usr/share/nltk_data...\r\n",
      "[nltk_data]    |   Package udhr is already up-to-date!\r\n",
      "[nltk_data]    | Downloading package udhr2 to /usr/share/nltk_data...\r\n",
      "[nltk_data]    |   Package udhr2 is already up-to-date!\r\n",
      "[nltk_data]    | Downloading package unicode_samples to\r\n",
      "[nltk_data]    |     /usr/share/nltk_data...\r\n",
      "[nltk_data]    |   Package unicode_samples is already up-to-date!\r\n",
      "[nltk_data]    | Downloading package universal_treebanks_v20 to\r\n",
      "[nltk_data]    |     /usr/share/nltk_data...\r\n",
      "[nltk_data]    |   Package universal_treebanks_v20 is already up-to-\r\n",
      "[nltk_data]    |       date!\r\n",
      "[nltk_data]    | Downloading package verbnet to\r\n",
      "[nltk_data]    |     /usr/share/nltk_data...\r\n",
      "[nltk_data]    |   Package verbnet is already up-to-date!\r\n",
      "[nltk_data]    | Downloading package verbnet3 to\r\n",
      "[nltk_data]    |     /usr/share/nltk_data...\r\n",
      "[nltk_data]    |   Unzipping corpora/verbnet3.zip.\r\n",
      "[nltk_data]    | Downloading package webtext to\r\n",
      "[nltk_data]    |     /usr/share/nltk_data...\r\n",
      "[nltk_data]    |   Package webtext is already up-to-date!\r\n",
      "[nltk_data]    | Downloading package wordnet to\r\n",
      "[nltk_data]    |     /usr/share/nltk_data...\r\n",
      "[nltk_data]    |   Package wordnet is already up-to-date!\r\n",
      "[nltk_data]    | Downloading package wordnet_ic to\r\n",
      "[nltk_data]    |     /usr/share/nltk_data...\r\n",
      "[nltk_data]    |   Package wordnet_ic is already up-to-date!\r\n",
      "[nltk_data]    | Downloading package words to /usr/share/nltk_data...\r\n",
      "[nltk_data]    |   Package words is already up-to-date!\r\n",
      "[nltk_data]    | Downloading package ycoe to /usr/share/nltk_data...\r\n",
      "[nltk_data]    |   Package ycoe is already up-to-date!\r\n",
      "[nltk_data]    | Downloading package rslp to /usr/share/nltk_data...\r\n",
      "[nltk_data]    |   Package rslp is already up-to-date!\r\n",
      "[nltk_data]    | Downloading package maxent_treebank_pos_tagger to\r\n",
      "[nltk_data]    |     /usr/share/nltk_data...\r\n",
      "[nltk_data]    |   Package maxent_treebank_pos_tagger is already up-\r\n",
      "[nltk_data]    |       to-date!\r\n",
      "[nltk_data]    | Downloading package universal_tagset to\r\n",
      "[nltk_data]    |     /usr/share/nltk_data...\r\n",
      "[nltk_data]    |   Package universal_tagset is already up-to-date!\r\n",
      "[nltk_data]    | Downloading package maxent_ne_chunker to\r\n",
      "[nltk_data]    |     /usr/share/nltk_data...\r\n",
      "[nltk_data]    |   Package maxent_ne_chunker is already up-to-date!\r\n",
      "[nltk_data]    | Downloading package punkt to /usr/share/nltk_data...\r\n",
      "[nltk_data]    |   Package punkt is already up-to-date!\r\n",
      "[nltk_data]    | Downloading package book_grammars to\r\n",
      "[nltk_data]    |     /usr/share/nltk_data...\r\n",
      "[nltk_data]    |   Package book_grammars is already up-to-date!\r\n",
      "[nltk_data]    | Downloading package sample_grammars to\r\n",
      "[nltk_data]    |     /usr/share/nltk_data...\r\n",
      "[nltk_data]    |   Package sample_grammars is already up-to-date!\r\n",
      "[nltk_data]    | Downloading package spanish_grammars to\r\n",
      "[nltk_data]    |     /usr/share/nltk_data...\r\n",
      "[nltk_data]    |   Package spanish_grammars is already up-to-date!\r\n",
      "[nltk_data]    | Downloading package basque_grammars to\r\n",
      "[nltk_data]    |     /usr/share/nltk_data...\r\n",
      "[nltk_data]    |   Package basque_grammars is already up-to-date!\r\n",
      "[nltk_data]    | Downloading package large_grammars to\r\n",
      "[nltk_data]    |     /usr/share/nltk_data...\r\n",
      "[nltk_data]    |   Package large_grammars is already up-to-date!\r\n",
      "[nltk_data]    | Downloading package tagsets to\r\n",
      "[nltk_data]    |     /usr/share/nltk_data...\r\n",
      "[nltk_data]    |   Package tagsets is already up-to-date!\r\n",
      "[nltk_data]    | Downloading package snowball_data to\r\n",
      "[nltk_data]    |     /usr/share/nltk_data...\r\n",
      "[nltk_data]    |   Package snowball_data is already up-to-date!\r\n",
      "[nltk_data]    | Downloading package bllip_wsj_no_aux to\r\n",
      "[nltk_data]    |     /usr/share/nltk_data...\r\n",
      "[nltk_data]    |   Package bllip_wsj_no_aux is already up-to-date!\r\n",
      "[nltk_data]    | Downloading package word2vec_sample to\r\n",
      "[nltk_data]    |     /usr/share/nltk_data...\r\n",
      "[nltk_data]    |   Package word2vec_sample is already up-to-date!\r\n",
      "[nltk_data]    | Downloading package panlex_swadesh to\r\n",
      "[nltk_data]    |     /usr/share/nltk_data...\r\n",
      "[nltk_data]    | Downloading package mte_teip5 to\r\n",
      "[nltk_data]    |     /usr/share/nltk_data...\r\n",
      "[nltk_data]    |   Package mte_teip5 is already up-to-date!\r\n",
      "[nltk_data]    | Downloading package averaged_perceptron_tagger to\r\n",
      "[nltk_data]    |     /usr/share/nltk_data...\r\n",
      "[nltk_data]    |   Package averaged_perceptron_tagger is already up-\r\n",
      "[nltk_data]    |       to-date!\r\n",
      "[nltk_data]    | Downloading package averaged_perceptron_tagger_ru to\r\n",
      "[nltk_data]    |     /usr/share/nltk_data...\r\n",
      "[nltk_data]    |   Unzipping\r\n",
      "[nltk_data]    |       taggers/averaged_perceptron_tagger_ru.zip.\r\n",
      "[nltk_data]    | Downloading package perluniprops to\r\n",
      "[nltk_data]    |     /usr/share/nltk_data...\r\n",
      "[nltk_data]    |   Unzipping misc/perluniprops.zip.\r\n",
      "[nltk_data]    | Downloading package nonbreaking_prefixes to\r\n",
      "[nltk_data]    |     /usr/share/nltk_data...\r\n",
      "[nltk_data]    |   Unzipping corpora/nonbreaking_prefixes.zip.\r\n",
      "[nltk_data]    | Downloading package vader_lexicon to\r\n",
      "[nltk_data]    |     /usr/share/nltk_data...\r\n",
      "[nltk_data]    |   Package vader_lexicon is already up-to-date!\r\n",
      "[nltk_data]    | Downloading package porter_test to\r\n",
      "[nltk_data]    |     /usr/share/nltk_data...\r\n",
      "[nltk_data]    |   Package porter_test is already up-to-date!\r\n",
      "[nltk_data]    | Downloading package wmt15_eval to\r\n",
      "[nltk_data]    |     /usr/share/nltk_data...\r\n",
      "[nltk_data]    |   Unzipping models/wmt15_eval.zip.\r\n",
      "[nltk_data]    | Downloading package mwa_ppdb to\r\n",
      "[nltk_data]    |     /usr/share/nltk_data...\r\n",
      "[nltk_data]    |   Unzipping misc/mwa_ppdb.zip.\r\n",
      "[nltk_data]    | \r\n",
      "[nltk_data]  Done downloading collection all\r\n"
     ]
    }
   ],
   "source": [
    "#cleaning data using nltk library\n",
    "!pip3 install nltk\n",
    "!python3 -m nltk.downloader all"
   ]
  },
  {
   "cell_type": "code",
   "execution_count": 8,
   "metadata": {
    "execution": {
     "iopub.execute_input": "2020-09-22T08:30:20.562824Z",
     "iopub.status.busy": "2020-09-22T08:30:20.561480Z",
     "iopub.status.idle": "2020-09-22T08:30:21.655591Z",
     "shell.execute_reply": "2020-09-22T08:30:21.654756Z"
    },
    "papermill": {
     "duration": 1.160738,
     "end_time": "2020-09-22T08:30:21.655744",
     "exception": false,
     "start_time": "2020-09-22T08:30:20.495006",
     "status": "completed"
    },
    "tags": []
   },
   "outputs": [
    {
     "ename": "NameError",
     "evalue": "name 'txt' is not defined",
     "output_type": "error",
     "traceback": [
      "\u001b[0;31m---------------------------------------------------------------------------\u001b[0m",
      "\u001b[0;31mNameError\u001b[0m                                 Traceback (most recent call last)",
      "\u001b[0;32m<ipython-input-8-e95d0030eaba>\u001b[0m in \u001b[0;36m<module>\u001b[0;34m\u001b[0m\n\u001b[1;32m      1\u001b[0m \u001b[0;32mfrom\u001b[0m \u001b[0mnltk\u001b[0m\u001b[0;34m.\u001b[0m\u001b[0mtokenize\u001b[0m \u001b[0;32mimport\u001b[0m \u001b[0mword_tokenize\u001b[0m\u001b[0;34m\u001b[0m\u001b[0;34m\u001b[0m\u001b[0m\n\u001b[0;32m----> 2\u001b[0;31m \u001b[0mtokens\u001b[0m \u001b[0;34m=\u001b[0m \u001b[0mword_tokenize\u001b[0m\u001b[0;34m(\u001b[0m\u001b[0mtxt\u001b[0m\u001b[0;34m)\u001b[0m\u001b[0;34m\u001b[0m\u001b[0;34m\u001b[0m\u001b[0m\n\u001b[0m\u001b[1;32m      3\u001b[0m \u001b[0;31m# convert to lower case\u001b[0m\u001b[0;34m\u001b[0m\u001b[0;34m\u001b[0m\u001b[0;34m\u001b[0m\u001b[0m\n\u001b[1;32m      4\u001b[0m \u001b[0mtokens\u001b[0m \u001b[0;34m=\u001b[0m \u001b[0;34m[\u001b[0m\u001b[0mw\u001b[0m\u001b[0;34m.\u001b[0m\u001b[0mlower\u001b[0m\u001b[0;34m(\u001b[0m\u001b[0;34m)\u001b[0m \u001b[0;32mfor\u001b[0m \u001b[0mw\u001b[0m \u001b[0;32min\u001b[0m \u001b[0mtokens\u001b[0m\u001b[0;34m]\u001b[0m\u001b[0;34m\u001b[0m\u001b[0;34m\u001b[0m\u001b[0m\n\u001b[1;32m      5\u001b[0m \u001b[0;31m# remove punctuation from each word\u001b[0m\u001b[0;34m\u001b[0m\u001b[0;34m\u001b[0m\u001b[0;34m\u001b[0m\u001b[0m\n",
      "\u001b[0;31mNameError\u001b[0m: name 'txt' is not defined"
     ]
    }
   ],
   "source": [
    "from nltk.tokenize import word_tokenize\n",
    "tokens = word_tokenize(txt)\n",
    "# convert to lower case\n",
    "tokens = [w.lower() for w in tokens]\n",
    "# remove punctuation from each word\n",
    "import string\n",
    "table = str.maketrans('', '', string.punctuation)\n",
    "stripped = [w.translate(table) for w in tokens]\n",
    "# remove remaining tokens that are not alphabetic\n",
    "words = [word for word in stripped if word.isalpha()]\n",
    "# filter out stop words\n",
    "from nltk.corpus import stopwords\n",
    "stop_words = set(stopwords.words('english'))\n",
    "words = [w for w in words if not w in stop_words]"
   ]
  },
  {
   "cell_type": "code",
   "execution_count": 9,
   "metadata": {
    "execution": {
     "iopub.execute_input": "2020-09-22T08:30:21.775598Z",
     "iopub.status.busy": "2020-09-22T08:30:21.774278Z",
     "iopub.status.idle": "2020-09-22T08:30:21.782311Z",
     "shell.execute_reply": "2020-09-22T08:30:21.781382Z"
    },
    "papermill": {
     "duration": 0.075879,
     "end_time": "2020-09-22T08:30:21.782500",
     "exception": false,
     "start_time": "2020-09-22T08:30:21.706621",
     "status": "completed"
    },
    "tags": []
   },
   "outputs": [
    {
     "ename": "NameError",
     "evalue": "name 'stripped' is not defined",
     "output_type": "error",
     "traceback": [
      "\u001b[0;31m---------------------------------------------------------------------------\u001b[0m",
      "\u001b[0;31mNameError\u001b[0m                                 Traceback (most recent call last)",
      "\u001b[0;32m<ipython-input-9-b1023fb11e5c>\u001b[0m in \u001b[0;36m<module>\u001b[0;34m\u001b[0m\n\u001b[1;32m      3\u001b[0m \u001b[0;32mimport\u001b[0m \u001b[0mmatplotlib\u001b[0m\u001b[0;34m.\u001b[0m\u001b[0mpyplot\u001b[0m \u001b[0;32mas\u001b[0m \u001b[0mplt\u001b[0m\u001b[0;34m\u001b[0m\u001b[0;34m\u001b[0m\u001b[0m\n\u001b[1;32m      4\u001b[0m \u001b[0;34m\u001b[0m\u001b[0m\n\u001b[0;32m----> 5\u001b[0;31m \u001b[0mdata\u001b[0m\u001b[0;34m=\u001b[0m \u001b[0mnp\u001b[0m\u001b[0;34m.\u001b[0m\u001b[0marray\u001b[0m\u001b[0;34m(\u001b[0m\u001b[0mstripped\u001b[0m\u001b[0;34m)\u001b[0m\u001b[0;34m\u001b[0m\u001b[0;34m\u001b[0m\u001b[0m\n\u001b[0m",
      "\u001b[0;31mNameError\u001b[0m: name 'stripped' is not defined"
     ]
    }
   ],
   "source": [
    "#create unigram aka frequencies\n",
    "import numpy as np\n",
    "import matplotlib.pyplot as plt\n",
    "\n",
    "data= np.array(stripped)"
   ]
  },
  {
   "cell_type": "code",
   "execution_count": 10,
   "metadata": {
    "execution": {
     "iopub.execute_input": "2020-09-22T08:30:21.901033Z",
     "iopub.status.busy": "2020-09-22T08:30:21.900039Z",
     "iopub.status.idle": "2020-09-22T08:30:21.905981Z",
     "shell.execute_reply": "2020-09-22T08:30:21.906643Z"
    },
    "papermill": {
     "duration": 0.074482,
     "end_time": "2020-09-22T08:30:21.906817",
     "exception": false,
     "start_time": "2020-09-22T08:30:21.832335",
     "status": "completed"
    },
    "tags": []
   },
   "outputs": [
    {
     "ename": "NameError",
     "evalue": "name 'data' is not defined",
     "output_type": "error",
     "traceback": [
      "\u001b[0;31m---------------------------------------------------------------------------\u001b[0m",
      "\u001b[0;31mNameError\u001b[0m                                 Traceback (most recent call last)",
      "\u001b[0;32m<ipython-input-10-8fe175046f1c>\u001b[0m in \u001b[0;36m<module>\u001b[0;34m\u001b[0m\n\u001b[1;32m      1\u001b[0m \u001b[0;32mfrom\u001b[0m \u001b[0mitertools\u001b[0m \u001b[0;32mimport\u001b[0m \u001b[0mgroupby\u001b[0m\u001b[0;34m\u001b[0m\u001b[0;34m\u001b[0m\u001b[0m\n\u001b[0;32m----> 2\u001b[0;31m \u001b[0mfreq\u001b[0m \u001b[0;34m=\u001b[0m \u001b[0;34m{\u001b[0m\u001b[0mkey\u001b[0m\u001b[0;34m:\u001b[0m\u001b[0mlen\u001b[0m\u001b[0;34m(\u001b[0m\u001b[0mlist\u001b[0m\u001b[0;34m(\u001b[0m\u001b[0mgroup\u001b[0m\u001b[0;34m)\u001b[0m\u001b[0;34m)\u001b[0m \u001b[0;32mfor\u001b[0m \u001b[0mkey\u001b[0m\u001b[0;34m,\u001b[0m \u001b[0mgroup\u001b[0m \u001b[0;32min\u001b[0m \u001b[0mgroupby\u001b[0m\u001b[0;34m(\u001b[0m\u001b[0mnp\u001b[0m\u001b[0;34m.\u001b[0m\u001b[0msort\u001b[0m\u001b[0;34m(\u001b[0m\u001b[0mdata\u001b[0m\u001b[0;34m)\u001b[0m\u001b[0;34m)\u001b[0m\u001b[0;34m}\u001b[0m\u001b[0;34m\u001b[0m\u001b[0;34m\u001b[0m\u001b[0m\n\u001b[0m",
      "\u001b[0;31mNameError\u001b[0m: name 'data' is not defined"
     ]
    }
   ],
   "source": [
    "from itertools import groupby\n",
    "freq = {key:len(list(group)) for key, group in groupby(np.sort(data))}"
   ]
  },
  {
   "cell_type": "code",
   "execution_count": 11,
   "metadata": {
    "execution": {
     "iopub.execute_input": "2020-09-22T08:30:22.016226Z",
     "iopub.status.busy": "2020-09-22T08:30:22.015163Z",
     "iopub.status.idle": "2020-09-22T08:30:22.028947Z",
     "shell.execute_reply": "2020-09-22T08:30:22.027560Z"
    },
    "papermill": {
     "duration": 0.071865,
     "end_time": "2020-09-22T08:30:22.029135",
     "exception": false,
     "start_time": "2020-09-22T08:30:21.957270",
     "status": "completed"
    },
    "tags": []
   },
   "outputs": [
    {
     "ename": "NameError",
     "evalue": "name 'freq' is not defined",
     "output_type": "error",
     "traceback": [
      "\u001b[0;31m---------------------------------------------------------------------------\u001b[0m",
      "\u001b[0;31mNameError\u001b[0m                                 Traceback (most recent call last)",
      "\u001b[0;32m<ipython-input-11-9dee96cb9d4a>\u001b[0m in \u001b[0;36m<module>\u001b[0;34m\u001b[0m\n\u001b[0;32m----> 1\u001b[0;31m \u001b[0mfreq\u001b[0m\u001b[0;34m\u001b[0m\u001b[0;34m\u001b[0m\u001b[0m\n\u001b[0m",
      "\u001b[0;31mNameError\u001b[0m: name 'freq' is not defined"
     ]
    }
   ],
   "source": [
    "freq"
   ]
  },
  {
   "cell_type": "code",
   "execution_count": 12,
   "metadata": {
    "execution": {
     "iopub.execute_input": "2020-09-22T08:30:22.136200Z",
     "iopub.status.busy": "2020-09-22T08:30:22.135367Z",
     "iopub.status.idle": "2020-09-22T08:30:22.148972Z",
     "shell.execute_reply": "2020-09-22T08:30:22.148065Z"
    },
    "papermill": {
     "duration": 0.072446,
     "end_time": "2020-09-22T08:30:22.149135",
     "exception": false,
     "start_time": "2020-09-22T08:30:22.076689",
     "status": "completed"
    },
    "tags": []
   },
   "outputs": [
    {
     "ename": "NameError",
     "evalue": "name 'freq' is not defined",
     "output_type": "error",
     "traceback": [
      "\u001b[0;31m---------------------------------------------------------------------------\u001b[0m",
      "\u001b[0;31mNameError\u001b[0m                                 Traceback (most recent call last)",
      "\u001b[0;32m<ipython-input-12-757c01f19537>\u001b[0m in \u001b[0;36m<module>\u001b[0;34m\u001b[0m\n\u001b[0;32m----> 1\u001b[0;31m \u001b[0mtype\u001b[0m\u001b[0;34m(\u001b[0m\u001b[0mfreq\u001b[0m\u001b[0;34m)\u001b[0m\u001b[0;34m\u001b[0m\u001b[0;34m\u001b[0m\u001b[0m\n\u001b[0m\u001b[1;32m      2\u001b[0m \u001b[0;34m\u001b[0m\u001b[0m\n\u001b[1;32m      3\u001b[0m \u001b[0mdict\u001b[0m\u001b[0;34m=\u001b[0m\u001b[0mfreq\u001b[0m\u001b[0;34m\u001b[0m\u001b[0;34m\u001b[0m\u001b[0m\n",
      "\u001b[0;31mNameError\u001b[0m: name 'freq' is not defined"
     ]
    }
   ],
   "source": [
    "type(freq)\n",
    "\n",
    "dict=freq"
   ]
  },
  {
   "cell_type": "code",
   "execution_count": 13,
   "metadata": {
    "execution": {
     "iopub.execute_input": "2020-09-22T08:30:22.264776Z",
     "iopub.status.busy": "2020-09-22T08:30:22.258855Z",
     "iopub.status.idle": "2020-09-22T08:30:22.283337Z",
     "shell.execute_reply": "2020-09-22T08:30:22.282593Z"
    },
    "papermill": {
     "duration": 0.083854,
     "end_time": "2020-09-22T08:30:22.283497",
     "exception": false,
     "start_time": "2020-09-22T08:30:22.199643",
     "status": "completed"
    },
    "tags": []
   },
   "outputs": [
    {
     "ename": "NameError",
     "evalue": "name 'freq' is not defined",
     "output_type": "error",
     "traceback": [
      "\u001b[0;31m---------------------------------------------------------------------------\u001b[0m",
      "\u001b[0;31mNameError\u001b[0m                                 Traceback (most recent call last)",
      "\u001b[0;32m<ipython-input-13-96c2e77272a4>\u001b[0m in \u001b[0;36m<module>\u001b[0;34m\u001b[0m\n\u001b[1;32m      1\u001b[0m \u001b[0munigrams\u001b[0m\u001b[0;34m=\u001b[0m\u001b[0;34m[\u001b[0m\u001b[0;34m]\u001b[0m\u001b[0;34m\u001b[0m\u001b[0;34m\u001b[0m\u001b[0m\n\u001b[0;32m----> 2\u001b[0;31m \u001b[0;32mfor\u001b[0m \u001b[0mi\u001b[0m\u001b[0;34m,\u001b[0m\u001b[0mj\u001b[0m \u001b[0;32min\u001b[0m \u001b[0mfreq\u001b[0m\u001b[0;34m.\u001b[0m\u001b[0mitems\u001b[0m\u001b[0;34m(\u001b[0m\u001b[0;34m)\u001b[0m\u001b[0;34m:\u001b[0m\u001b[0;34m\u001b[0m\u001b[0;34m\u001b[0m\u001b[0m\n\u001b[0m\u001b[1;32m      3\u001b[0m     \u001b[0munigrams\u001b[0m\u001b[0;34m.\u001b[0m\u001b[0mappend\u001b[0m \u001b[0;34m(\u001b[0m\u001b[0;34m(\u001b[0m\u001b[0mi\u001b[0m\u001b[0;34m,\u001b[0m\u001b[0mj\u001b[0m\u001b[0;34m)\u001b[0m\u001b[0;34m)\u001b[0m\u001b[0;34m\u001b[0m\u001b[0;34m\u001b[0m\u001b[0m\n\u001b[1;32m      4\u001b[0m \u001b[0mprint\u001b[0m \u001b[0;34m(\u001b[0m\u001b[0munigrams\u001b[0m\u001b[0;34m)\u001b[0m\u001b[0;34m\u001b[0m\u001b[0;34m\u001b[0m\u001b[0m\n",
      "\u001b[0;31mNameError\u001b[0m: name 'freq' is not defined"
     ]
    }
   ],
   "source": [
    "unigrams=[]\n",
    "for i,j in freq.items():\n",
    "    unigrams.append ((i,j))\n",
    "print (unigrams)"
   ]
  },
  {
   "cell_type": "code",
   "execution_count": 14,
   "metadata": {
    "execution": {
     "iopub.execute_input": "2020-09-22T08:30:22.412007Z",
     "iopub.status.busy": "2020-09-22T08:30:22.410791Z",
     "iopub.status.idle": "2020-09-22T08:30:22.429362Z",
     "shell.execute_reply": "2020-09-22T08:30:22.428494Z"
    },
    "papermill": {
     "duration": 0.090807,
     "end_time": "2020-09-22T08:30:22.429503",
     "exception": false,
     "start_time": "2020-09-22T08:30:22.338696",
     "status": "completed"
    },
    "tags": []
   },
   "outputs": [
    {
     "ename": "NameError",
     "evalue": "name 'words' is not defined",
     "output_type": "error",
     "traceback": [
      "\u001b[0;31m---------------------------------------------------------------------------\u001b[0m",
      "\u001b[0;31mNameError\u001b[0m                                 Traceback (most recent call last)",
      "\u001b[0;32m<ipython-input-14-730c51b3e7e0>\u001b[0m in \u001b[0;36m<module>\u001b[0;34m\u001b[0m\n\u001b[0;32m----> 1\u001b[0;31m \u001b[0mwords\u001b[0m\u001b[0;34m\u001b[0m\u001b[0;34m\u001b[0m\u001b[0m\n\u001b[0m",
      "\u001b[0;31mNameError\u001b[0m: name 'words' is not defined"
     ]
    }
   ],
   "source": [
    "words"
   ]
  },
  {
   "cell_type": "code",
   "execution_count": 15,
   "metadata": {
    "execution": {
     "iopub.execute_input": "2020-09-22T08:30:22.564388Z",
     "iopub.status.busy": "2020-09-22T08:30:22.561668Z",
     "iopub.status.idle": "2020-09-22T08:30:22.572369Z",
     "shell.execute_reply": "2020-09-22T08:30:22.571373Z"
    },
    "papermill": {
     "duration": 0.087666,
     "end_time": "2020-09-22T08:30:22.572525",
     "exception": false,
     "start_time": "2020-09-22T08:30:22.484859",
     "status": "completed"
    },
    "tags": []
   },
   "outputs": [
    {
     "ename": "NameError",
     "evalue": "name 'stripped' is not defined",
     "output_type": "error",
     "traceback": [
      "\u001b[0;31m---------------------------------------------------------------------------\u001b[0m",
      "\u001b[0;31mNameError\u001b[0m                                 Traceback (most recent call last)",
      "\u001b[0;32m<ipython-input-15-ec77020eb0de>\u001b[0m in \u001b[0;36m<module>\u001b[0;34m\u001b[0m\n\u001b[0;32m----> 1\u001b[0;31m \u001b[0mi_len\u001b[0m\u001b[0;34m=\u001b[0m\u001b[0mlen\u001b[0m\u001b[0;34m(\u001b[0m\u001b[0mstripped\u001b[0m\u001b[0;34m)\u001b[0m\u001b[0;34m-\u001b[0m\u001b[0;36m1\u001b[0m\u001b[0;34m\u001b[0m\u001b[0;34m\u001b[0m\u001b[0m\n\u001b[0m\u001b[1;32m      2\u001b[0m \u001b[0;34m\u001b[0m\u001b[0m\n\u001b[1;32m      3\u001b[0m \u001b[0mbi_list\u001b[0m\u001b[0;34m=\u001b[0m\u001b[0;34m[\u001b[0m\u001b[0;34m]\u001b[0m\u001b[0;34m\u001b[0m\u001b[0;34m\u001b[0m\u001b[0m\n\u001b[1;32m      4\u001b[0m \u001b[0;32mfor\u001b[0m \u001b[0mi\u001b[0m \u001b[0;32min\u001b[0m \u001b[0mrange\u001b[0m\u001b[0;34m(\u001b[0m\u001b[0;36m0\u001b[0m\u001b[0;34m,\u001b[0m\u001b[0mi_len\u001b[0m\u001b[0;34m)\u001b[0m\u001b[0;34m:\u001b[0m\u001b[0;34m\u001b[0m\u001b[0;34m\u001b[0m\u001b[0m\n\u001b[1;32m      5\u001b[0m     \u001b[0mbi_list\u001b[0m\u001b[0;34m.\u001b[0m\u001b[0mappend\u001b[0m\u001b[0;34m(\u001b[0m\u001b[0mstripped\u001b[0m\u001b[0;34m[\u001b[0m\u001b[0mi\u001b[0m\u001b[0;34m]\u001b[0m\u001b[0;34m+\u001b[0m\u001b[0;34m\" \"\u001b[0m\u001b[0;34m+\u001b[0m\u001b[0mstripped\u001b[0m\u001b[0;34m[\u001b[0m\u001b[0mi\u001b[0m\u001b[0;34m+\u001b[0m\u001b[0;36m1\u001b[0m\u001b[0;34m]\u001b[0m\u001b[0;34m)\u001b[0m\u001b[0;34m\u001b[0m\u001b[0;34m\u001b[0m\u001b[0m\n",
      "\u001b[0;31mNameError\u001b[0m: name 'stripped' is not defined"
     ]
    }
   ],
   "source": [
    "i_len=len(stripped)-1\n",
    "\n",
    "bi_list=[]\n",
    "for i in range(0,i_len):\n",
    "    bi_list.append(stripped[i]+\" \"+stripped[i+1])\n",
    "bi_list\n"
   ]
  },
  {
   "cell_type": "code",
   "execution_count": 16,
   "metadata": {
    "execution": {
     "iopub.execute_input": "2020-09-22T08:30:22.707730Z",
     "iopub.status.busy": "2020-09-22T08:30:22.706660Z",
     "iopub.status.idle": "2020-09-22T08:30:22.713604Z",
     "shell.execute_reply": "2020-09-22T08:30:22.712794Z"
    },
    "papermill": {
     "duration": 0.0838,
     "end_time": "2020-09-22T08:30:22.713754",
     "exception": false,
     "start_time": "2020-09-22T08:30:22.629954",
     "status": "completed"
    },
    "tags": []
   },
   "outputs": [
    {
     "ename": "NameError",
     "evalue": "name 'bi_list' is not defined",
     "output_type": "error",
     "traceback": [
      "\u001b[0;31m---------------------------------------------------------------------------\u001b[0m",
      "\u001b[0;31mNameError\u001b[0m                                 Traceback (most recent call last)",
      "\u001b[0;32m<ipython-input-16-08b71f6dd146>\u001b[0m in \u001b[0;36m<module>\u001b[0;34m\u001b[0m\n\u001b[0;32m----> 1\u001b[0;31m \u001b[0mfreq\u001b[0m \u001b[0;34m=\u001b[0m \u001b[0;34m{\u001b[0m\u001b[0mkey\u001b[0m\u001b[0;34m:\u001b[0m\u001b[0mlen\u001b[0m\u001b[0;34m(\u001b[0m\u001b[0mlist\u001b[0m\u001b[0;34m(\u001b[0m\u001b[0mgroup\u001b[0m\u001b[0;34m)\u001b[0m\u001b[0;34m)\u001b[0m \u001b[0;32mfor\u001b[0m \u001b[0mkey\u001b[0m\u001b[0;34m,\u001b[0m \u001b[0mgroup\u001b[0m \u001b[0;32min\u001b[0m \u001b[0mgroupby\u001b[0m\u001b[0;34m(\u001b[0m\u001b[0mnp\u001b[0m\u001b[0;34m.\u001b[0m\u001b[0msort\u001b[0m\u001b[0;34m(\u001b[0m\u001b[0mbi_list\u001b[0m\u001b[0;34m)\u001b[0m\u001b[0;34m)\u001b[0m\u001b[0;34m}\u001b[0m\u001b[0;34m\u001b[0m\u001b[0;34m\u001b[0m\u001b[0m\n\u001b[0m\u001b[1;32m      2\u001b[0m \u001b[0;34m\u001b[0m\u001b[0m\n\u001b[1;32m      3\u001b[0m \u001b[0mbigrams\u001b[0m\u001b[0;34m=\u001b[0m\u001b[0;34m[\u001b[0m\u001b[0;34m]\u001b[0m\u001b[0;34m\u001b[0m\u001b[0;34m\u001b[0m\u001b[0m\n\u001b[1;32m      4\u001b[0m \u001b[0;32mfor\u001b[0m \u001b[0mi\u001b[0m\u001b[0;34m,\u001b[0m\u001b[0mj\u001b[0m \u001b[0;32min\u001b[0m \u001b[0mfreq\u001b[0m\u001b[0;34m.\u001b[0m\u001b[0mitems\u001b[0m\u001b[0;34m(\u001b[0m\u001b[0;34m)\u001b[0m\u001b[0;34m:\u001b[0m\u001b[0;34m\u001b[0m\u001b[0;34m\u001b[0m\u001b[0m\n\u001b[1;32m      5\u001b[0m     \u001b[0mbigrams\u001b[0m\u001b[0;34m.\u001b[0m\u001b[0mappend\u001b[0m \u001b[0;34m(\u001b[0m\u001b[0;34m(\u001b[0m\u001b[0mi\u001b[0m\u001b[0;34m,\u001b[0m\u001b[0mj\u001b[0m\u001b[0;34m)\u001b[0m\u001b[0;34m)\u001b[0m\u001b[0;34m\u001b[0m\u001b[0;34m\u001b[0m\u001b[0m\n",
      "\u001b[0;31mNameError\u001b[0m: name 'bi_list' is not defined"
     ]
    }
   ],
   "source": [
    "freq = {key:len(list(group)) for key, group in groupby(np.sort(bi_list))}\n",
    "\n",
    "bigrams=[]\n",
    "for i,j in freq.items():\n",
    "    bigrams.append ((i,j))\n",
    "print (bigrams)\n"
   ]
  },
  {
   "cell_type": "code",
   "execution_count": 17,
   "metadata": {
    "execution": {
     "iopub.execute_input": "2020-09-22T08:30:22.859487Z",
     "iopub.status.busy": "2020-09-22T08:30:22.857859Z",
     "iopub.status.idle": "2020-09-22T08:30:22.865084Z",
     "shell.execute_reply": "2020-09-22T08:30:22.864275Z"
    },
    "papermill": {
     "duration": 0.097426,
     "end_time": "2020-09-22T08:30:22.865242",
     "exception": false,
     "start_time": "2020-09-22T08:30:22.767816",
     "status": "completed"
    },
    "tags": []
   },
   "outputs": [
    {
     "ename": "NameError",
     "evalue": "name 'stripped' is not defined",
     "output_type": "error",
     "traceback": [
      "\u001b[0;31m---------------------------------------------------------------------------\u001b[0m",
      "\u001b[0;31mNameError\u001b[0m                                 Traceback (most recent call last)",
      "\u001b[0;32m<ipython-input-17-dae70221bef3>\u001b[0m in \u001b[0;36m<module>\u001b[0;34m\u001b[0m\n\u001b[0;32m----> 1\u001b[0;31m \u001b[0mi_len\u001b[0m\u001b[0;34m=\u001b[0m\u001b[0mlen\u001b[0m\u001b[0;34m(\u001b[0m\u001b[0mstripped\u001b[0m\u001b[0;34m)\u001b[0m\u001b[0;34m-\u001b[0m\u001b[0;36m1\u001b[0m\u001b[0;34m\u001b[0m\u001b[0;34m\u001b[0m\u001b[0m\n\u001b[0m\u001b[1;32m      2\u001b[0m \u001b[0;34m\u001b[0m\u001b[0m\n\u001b[1;32m      3\u001b[0m \u001b[0;32mfor\u001b[0m \u001b[0mi\u001b[0m \u001b[0;32min\u001b[0m \u001b[0mrange\u001b[0m\u001b[0;34m(\u001b[0m\u001b[0;36m0\u001b[0m\u001b[0;34m,\u001b[0m\u001b[0mi_len\u001b[0m\u001b[0;34m)\u001b[0m\u001b[0;34m:\u001b[0m\u001b[0;34m\u001b[0m\u001b[0;34m\u001b[0m\u001b[0m\n\u001b[1;32m      4\u001b[0m     \u001b[0mprint\u001b[0m\u001b[0;34m(\u001b[0m\u001b[0mstripped\u001b[0m\u001b[0;34m[\u001b[0m\u001b[0mi\u001b[0m\u001b[0;34m]\u001b[0m\u001b[0;34m+\u001b[0m\u001b[0;34m\" \"\u001b[0m\u001b[0;34m+\u001b[0m\u001b[0mstripped\u001b[0m\u001b[0;34m[\u001b[0m\u001b[0mi\u001b[0m\u001b[0;34m+\u001b[0m\u001b[0;36m1\u001b[0m\u001b[0;34m]\u001b[0m\u001b[0;34m)\u001b[0m\u001b[0;34m\u001b[0m\u001b[0;34m\u001b[0m\u001b[0m\n\u001b[1;32m      5\u001b[0m     \u001b[0mprint\u001b[0m\u001b[0;34m(\u001b[0m\u001b[0;34m\"P(\"\u001b[0m\u001b[0;34m+\u001b[0m\u001b[0mstripped\u001b[0m\u001b[0;34m[\u001b[0m\u001b[0mi\u001b[0m\u001b[0;34m+\u001b[0m\u001b[0;36m1\u001b[0m\u001b[0;34m]\u001b[0m\u001b[0;34m+\u001b[0m\u001b[0;34m'|'\u001b[0m\u001b[0;34m+\u001b[0m\u001b[0mstripped\u001b[0m\u001b[0;34m[\u001b[0m\u001b[0mi\u001b[0m\u001b[0;34m]\u001b[0m\u001b[0;34m+\u001b[0m\u001b[0;34m')='\u001b[0m\u001b[0;34m)\u001b[0m\u001b[0;34m\u001b[0m\u001b[0;34m\u001b[0m\u001b[0m\n",
      "\u001b[0;31mNameError\u001b[0m: name 'stripped' is not defined"
     ]
    }
   ],
   "source": [
    "i_len=len(stripped)-1\n",
    "\n",
    "for i in range(0,i_len):\n",
    "    print(stripped[i]+\" \"+stripped[i+1])\n",
    "    print(\"P(\"+stripped[i+1]+'|'+stripped[i]+')=')\n"
   ]
  },
  {
   "cell_type": "code",
   "execution_count": 18,
   "metadata": {
    "execution": {
     "iopub.execute_input": "2020-09-22T08:30:22.994888Z",
     "iopub.status.busy": "2020-09-22T08:30:22.993403Z",
     "iopub.status.idle": "2020-09-22T08:30:23.000452Z",
     "shell.execute_reply": "2020-09-22T08:30:22.999693Z"
    },
    "papermill": {
     "duration": 0.083541,
     "end_time": "2020-09-22T08:30:23.000611",
     "exception": false,
     "start_time": "2020-09-22T08:30:22.917070",
     "status": "completed"
    },
    "tags": []
   },
   "outputs": [
    {
     "ename": "NameError",
     "evalue": "name 'bigrams' is not defined",
     "output_type": "error",
     "traceback": [
      "\u001b[0;31m---------------------------------------------------------------------------\u001b[0m",
      "\u001b[0;31mNameError\u001b[0m                                 Traceback (most recent call last)",
      "\u001b[0;32m<ipython-input-18-ae97ede6c7c2>\u001b[0m in \u001b[0;36m<module>\u001b[0;34m\u001b[0m\n\u001b[0;32m----> 1\u001b[0;31m \u001b[0mprint\u001b[0m\u001b[0;34m(\u001b[0m\u001b[0mbigrams\u001b[0m\u001b[0;34m[\u001b[0m\u001b[0;36m5\u001b[0m\u001b[0;34m]\u001b[0m\u001b[0;34m)\u001b[0m\u001b[0;34m\u001b[0m\u001b[0;34m\u001b[0m\u001b[0m\n\u001b[0m",
      "\u001b[0;31mNameError\u001b[0m: name 'bigrams' is not defined"
     ]
    }
   ],
   "source": [
    "print(bigrams[5])"
   ]
  },
  {
   "cell_type": "code",
   "execution_count": 19,
   "metadata": {
    "execution": {
     "iopub.execute_input": "2020-09-22T08:30:23.146951Z",
     "iopub.status.busy": "2020-09-22T08:30:23.146058Z",
     "iopub.status.idle": "2020-09-22T08:30:23.161830Z",
     "shell.execute_reply": "2020-09-22T08:30:23.161086Z"
    },
    "papermill": {
     "duration": 0.093155,
     "end_time": "2020-09-22T08:30:23.161967",
     "exception": false,
     "start_time": "2020-09-22T08:30:23.068812",
     "status": "completed"
    },
    "tags": []
   },
   "outputs": [
    {
     "ename": "NameError",
     "evalue": "name 'bigrams' is not defined",
     "output_type": "error",
     "traceback": [
      "\u001b[0;31m---------------------------------------------------------------------------\u001b[0m",
      "\u001b[0;31mNameError\u001b[0m                                 Traceback (most recent call last)",
      "\u001b[0;32m<ipython-input-19-c91f40429cac>\u001b[0m in \u001b[0;36m<module>\u001b[0;34m\u001b[0m\n\u001b[0;32m----> 1\u001b[0;31m \u001b[0mbigrams\u001b[0m\u001b[0;34m\u001b[0m\u001b[0;34m\u001b[0m\u001b[0m\n\u001b[0m",
      "\u001b[0;31mNameError\u001b[0m: name 'bigrams' is not defined"
     ]
    }
   ],
   "source": [
    "bigrams"
   ]
  }
 ],
 "metadata": {
  "kernelspec": {
   "display_name": "Python 3",
   "language": "python",
   "name": "python3"
  },
  "language_info": {
   "codemirror_mode": {
    "name": "ipython",
    "version": 3
   },
   "file_extension": ".py",
   "mimetype": "text/x-python",
   "name": "python",
   "nbconvert_exporter": "python",
   "pygments_lexer": "ipython3",
   "version": "3.7.6"
  },
  "papermill": {
   "duration": 46.336135,
   "end_time": "2020-09-22T08:30:23.340186",
   "environment_variables": {},
   "exception": null,
   "input_path": "__notebook__.ipynb",
   "output_path": "__notebook__.ipynb",
   "parameters": {},
   "start_time": "2020-09-22T08:29:37.004051",
   "version": "2.1.0"
  }
 },
 "nbformat": 4,
 "nbformat_minor": 4
}
